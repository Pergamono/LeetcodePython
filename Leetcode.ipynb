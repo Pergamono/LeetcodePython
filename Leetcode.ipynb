{
 "cells": [
  {
   "cell_type": "code",
   "execution_count": 55,
   "id": "emotional-ukraine",
   "metadata": {},
   "outputs": [],
   "source": [
    "nums=[11,2,7]\n",
    "target=9\n",
    "\n",
    "nums_1 = [0]\n",
    "target_1 = 0"
   ]
  },
  {
   "cell_type": "code",
   "execution_count": 10,
   "id": "assured-situation",
   "metadata": {},
   "outputs": [],
   "source": [
    "def two_sum(nums,target):\n",
    "    \n",
    "    basket = {}\n",
    "    \n",
    "    for ind, val in enumerate(nums):\n",
    "        remainder = target-nums[ind]\n",
    "            \n",
    "        if remainder in basket:\n",
    "            return [ind,basket[remainder]]\n",
    "        else: \n",
    "            basket[val]=ind        "
   ]
  },
  {
   "cell_type": "code",
   "execution_count": 58,
   "id": "continental-capitol",
   "metadata": {},
   "outputs": [
    {
     "data": {
      "text/plain": [
       "[2, 1]"
      ]
     },
     "execution_count": 58,
     "metadata": {},
     "output_type": "execute_result"
    }
   ],
   "source": [
    "two_sum(nums,target)"
   ]
  },
  {
   "cell_type": "code",
   "execution_count": 27,
   "id": "judicial-wrist",
   "metadata": {},
   "outputs": [],
   "source": [
    "def three_sum(nums,target):\n",
    "    \n",
    "    collect = []\n",
    "    \n",
    "    for ind_1, val_1 in enumerate(nums):\n",
    "        for ind_2, val_2 in enumerate(nums):\n",
    "            for ind_3, val_3 in enumerate(nums):\n",
    "                if val_1 + val_2 + val_3 == target \\\n",
    "                    and ind_1 != ind_2 \\\n",
    "                    and ind_2 != ind_3 \\\n",
    "                    and ind_1 != ind_3 \\\n",
    "                    and val_1 != val_2 \\\n",
    "                    and val_2 != val_3 \\\n",
    "                    and val_1 != val_3:\n",
    "                        collect.append([val_1, val_2, val_3])\n",
    "    \n",
    "    return collect"
   ]
  },
  {
   "cell_type": "code",
   "execution_count": 28,
   "id": "fatty-upset",
   "metadata": {},
   "outputs": [
    {
     "data": {
      "text/plain": [
       "[[-1, 0, 1],\n",
       " [-1, 1, 0],\n",
       " [0, -1, 1],\n",
       " [0, 1, -1],\n",
       " [0, 1, -1],\n",
       " [0, -1, 1],\n",
       " [1, -1, 0],\n",
       " [1, 0, -1],\n",
       " [1, 0, -1],\n",
       " [1, -1, 0],\n",
       " [-1, 0, 1],\n",
       " [-1, 1, 0]]"
      ]
     },
     "execution_count": 28,
     "metadata": {},
     "output_type": "execute_result"
    }
   ],
   "source": [
    "three_sum(nums_1,target_1)"
   ]
  },
  {
   "cell_type": "code",
   "execution_count": 48,
   "id": "verbal-religion",
   "metadata": {},
   "outputs": [],
   "source": [
    "def three_sum_again(nums,target):\n",
    "    \n",
    "    nums.sort()\n",
    "    \n",
    "    collect = []\n",
    "    \n",
    "    for i in range(len(nums)-2):\n",
    "        for j in range(i+1, len(nums)-1):\n",
    "            for k in range(j+1, len(nums)):\n",
    "                if nums[i]+nums[j]+nums[k] == target and [nums[i],nums[j],nums[k]] not in collect:\n",
    "                    collect.append([nums[i],nums[j],nums[k]])  \n",
    "    \n",
    "    return collect"
   ]
  },
  {
   "cell_type": "code",
   "execution_count": 56,
   "id": "exotic-liquid",
   "metadata": {},
   "outputs": [
    {
     "data": {
      "text/plain": [
       "[]"
      ]
     },
     "execution_count": 56,
     "metadata": {},
     "output_type": "execute_result"
    }
   ],
   "source": [
    "three_sum_again(nums_1,target_1)"
   ]
  },
  {
   "cell_type": "code",
   "execution_count": 50,
   "id": "alien-inspiration",
   "metadata": {},
   "outputs": [
    {
     "data": {
      "text/plain": [
       "[11, 2, 7]"
      ]
     },
     "execution_count": 50,
     "metadata": {},
     "output_type": "execute_result"
    }
   ],
   "source": []
  },
  {
   "cell_type": "markdown",
   "id": "manufactured-shoulder",
   "metadata": {},
   "source": [
    "# Contains Duplicate\n",
    "Given an array of integers, find if the array contains any duplicates.\n",
    "Your function should return true if any value appears at least twice in the array, and it should return false if every element is distinct."
   ]
  },
  {
   "cell_type": "code",
   "execution_count": 78,
   "id": "informal-sacrifice",
   "metadata": {},
   "outputs": [],
   "source": [
    "arr=[1,1,1,3,3,4,3,2,4,2]"
   ]
  },
  {
   "cell_type": "code",
   "execution_count": 81,
   "id": "wanted-boost",
   "metadata": {},
   "outputs": [],
   "source": [
    "def dup_yes(arr):\n",
    "    arr.sort()\n",
    "    for i in range(len(arr)-1):\n",
    "        for j in range(i+1,len(arr)):\n",
    "            return arr[i] == arr[j]"
   ]
  },
  {
   "cell_type": "code",
   "execution_count": 82,
   "id": "waiting-organizer",
   "metadata": {},
   "outputs": [
    {
     "data": {
      "text/plain": [
       "True"
      ]
     },
     "execution_count": 82,
     "metadata": {},
     "output_type": "execute_result"
    }
   ],
   "source": [
    "dup_yes(arr)"
   ]
  },
  {
   "cell_type": "markdown",
   "id": "weird-pepper",
   "metadata": {},
   "source": [
    "# Best Time to Buy and Sell Stock\n",
    "You are given an array prices where prices[i] is the price of a given stock on the ith day.\n",
    "\n",
    "You want to maximize your profit by choosing a single day to buy one stock and choosing a different day in the future to sell that stock.\n",
    "\n",
    "Return the maximum profit you can achieve from this transaction. If you cannot achieve any profit, return 0."
   ]
  },
  {
   "cell_type": "code",
   "execution_count": 12,
   "id": "innovative-finder",
   "metadata": {},
   "outputs": [],
   "source": [
    "prices = [7,6,4,3,1]"
   ]
  },
  {
   "cell_type": "code",
   "execution_count": 4,
   "id": "certified-solution",
   "metadata": {},
   "outputs": [
    {
     "data": {
      "text/plain": [
       "7"
      ]
     },
     "execution_count": 4,
     "metadata": {},
     "output_type": "execute_result"
    }
   ],
   "source": [
    "max(prices)"
   ]
  },
  {
   "cell_type": "code",
   "execution_count": 6,
   "id": "inner-sucking",
   "metadata": {},
   "outputs": [
    {
     "data": {
      "text/plain": [
       "0"
      ]
     },
     "execution_count": 6,
     "metadata": {},
     "output_type": "execute_result"
    }
   ],
   "source": [
    "prices.index(max(prices))"
   ]
  },
  {
   "cell_type": "code",
   "execution_count": 10,
   "id": "amazing-candle",
   "metadata": {},
   "outputs": [],
   "source": [
    "def max_prof(prices):\n",
    "    profits = [0]\n",
    "    for i in range(len(prices)-1): \n",
    "        for j in range(i+1,len(prices)):\n",
    "            if prices[i] < prices[j]: \n",
    "                profits.append(prices[j]-prices[i])\n",
    "            else: \n",
    "                continue\n",
    "                \n",
    "    return max(profits)"
   ]
  },
  {
   "cell_type": "code",
   "execution_count": 13,
   "id": "bright-acoustic",
   "metadata": {},
   "outputs": [
    {
     "data": {
      "text/plain": [
       "0"
      ]
     },
     "execution_count": 13,
     "metadata": {},
     "output_type": "execute_result"
    }
   ],
   "source": [
    "max_prof(prices)"
   ]
  },
  {
   "cell_type": "markdown",
   "id": "warming-foundation",
   "metadata": {},
   "source": [
    "# Valid Anagram\n",
    "Given two strings s and t , write a function to determine if t is an anagram of s."
   ]
  },
  {
   "cell_type": "code",
   "execution_count": 42,
   "id": "operating-parameter",
   "metadata": {},
   "outputs": [],
   "source": [
    "s = \"rat\"\n",
    "t = \"car\""
   ]
  },
  {
   "cell_type": "code",
   "execution_count": 36,
   "id": "expensive-absorption",
   "metadata": {},
   "outputs": [
    {
     "data": {
      "text/plain": [
       "['a', 'n', 'a', 'g', 'r', 'a', 'm']"
      ]
     },
     "execution_count": 36,
     "metadata": {},
     "output_type": "execute_result"
    }
   ],
   "source": [
    "list(s)"
   ]
  },
  {
   "cell_type": "code",
   "execution_count": 38,
   "id": "cooperative-valuable",
   "metadata": {},
   "outputs": [],
   "source": [
    "s1=sorted(list(s))"
   ]
  },
  {
   "cell_type": "code",
   "execution_count": 39,
   "id": "ambient-morgan",
   "metadata": {},
   "outputs": [
    {
     "data": {
      "text/plain": [
       "'a'"
      ]
     },
     "execution_count": 39,
     "metadata": {},
     "output_type": "execute_result"
    }
   ],
   "source": [
    "s1[2]"
   ]
  },
  {
   "cell_type": "code",
   "execution_count": 40,
   "id": "starting-circuit",
   "metadata": {},
   "outputs": [],
   "source": [
    "def anagram(s,t):\n",
    "    \n",
    "    return sorted(list(s))==sorted(list(t))        "
   ]
  },
  {
   "cell_type": "code",
   "execution_count": 43,
   "id": "proved-faith",
   "metadata": {},
   "outputs": [
    {
     "data": {
      "text/plain": [
       "False"
      ]
     },
     "execution_count": 43,
     "metadata": {},
     "output_type": "execute_result"
    }
   ],
   "source": [
    "anagram(s,t)"
   ]
  },
  {
   "cell_type": "markdown",
   "id": "separated-checklist",
   "metadata": {},
   "source": [
    "# Valid Parentheses\n",
    "Given a string s containing just the characters '(', ')', '{', '}', '[' and ']', determine if the input string is valid.\n",
    "\n",
    "An input string is valid if:\n",
    "\n",
    "Open brackets must be closed by the same type of brackets.\n",
    "Open brackets must be closed in the correct order."
   ]
  },
  {
   "cell_type": "code",
   "execution_count": 93,
   "id": "honest-broadcasting",
   "metadata": {},
   "outputs": [],
   "source": [
    "s = \"()[]{}\""
   ]
  },
  {
   "cell_type": "code",
   "execution_count": 135,
   "id": "surface-catch",
   "metadata": {},
   "outputs": [],
   "source": [
    "def Valid_parentheses(s):\n",
    "    \n",
    "    ss=list(s)\n",
    "    \n",
    "    p=[ ['(', ')'], ['[', ']'], ['{', '}']]\n",
    "    \n",
    "    length=len(list(ss))\n",
    "    \n",
    "    if ((length % 2) != 0) or (length == 0):\n",
    "        return False\n",
    "    else: \n",
    "        while len(ss) > 0:\n",
    "            if [ss[int(len(ss)/2)-1],ss[int(len(ss)/2)]] not in p:\n",
    "                return False                \n",
    "            else:\n",
    "                ss.pop(int(len(ss)/2)-1)\n",
    "                ss.pop(int(len(ss)/2))\n",
    "                if len(ss)== 0: \n",
    "                    return True\n",
    "                else:\n",
    "                    continue"
   ]
  },
  {
   "cell_type": "code",
   "execution_count": 136,
   "id": "advised-trademark",
   "metadata": {},
   "outputs": [
    {
     "data": {
      "text/plain": [
       "False"
      ]
     },
     "execution_count": 136,
     "metadata": {},
     "output_type": "execute_result"
    }
   ],
   "source": [
    "Valid_parentheses(s)"
   ]
  },
  {
   "cell_type": "code",
   "execution_count": 125,
   "id": "processed-candidate",
   "metadata": {},
   "outputs": [
    {
     "data": {
      "text/plain": [
       "True"
      ]
     },
     "execution_count": 125,
     "metadata": {},
     "output_type": "execute_result"
    }
   ],
   "source": [
    "s !=[]"
   ]
  },
  {
   "cell_type": "code",
   "execution_count": 78,
   "id": "fourth-lafayette",
   "metadata": {},
   "outputs": [],
   "source": [
    "a=[1,2,3,4,5,6]"
   ]
  },
  {
   "cell_type": "code",
   "execution_count": 79,
   "id": "parliamentary-collapse",
   "metadata": {},
   "outputs": [
    {
     "data": {
      "text/plain": [
       "4"
      ]
     },
     "execution_count": 79,
     "metadata": {},
     "output_type": "execute_result"
    }
   ],
   "source": [
    "a.pop(3)"
   ]
  },
  {
   "cell_type": "code",
   "execution_count": 70,
   "id": "entire-server",
   "metadata": {},
   "outputs": [
    {
     "data": {
      "text/plain": [
       "[1, 2, 4, 5]"
      ]
     },
     "execution_count": 70,
     "metadata": {},
     "output_type": "execute_result"
    }
   ],
   "source": [
    "a"
   ]
  },
  {
   "cell_type": "code",
   "execution_count": 72,
   "id": "appreciated-blackberry",
   "metadata": {},
   "outputs": [],
   "source": [
    "p=[ ['(', ')'], ['[', ']'], ['{', '}']]"
   ]
  },
  {
   "cell_type": "code",
   "execution_count": 73,
   "id": "fiscal-egyptian",
   "metadata": {},
   "outputs": [
    {
     "data": {
      "text/plain": [
       "[['(', ')'], ['[', ']'], ['{', '}']]"
      ]
     },
     "execution_count": 73,
     "metadata": {},
     "output_type": "execute_result"
    }
   ],
   "source": [
    "p"
   ]
  },
  {
   "cell_type": "code",
   "execution_count": 74,
   "id": "sound-installation",
   "metadata": {},
   "outputs": [
    {
     "data": {
      "text/plain": [
       "True"
      ]
     },
     "execution_count": 74,
     "metadata": {},
     "output_type": "execute_result"
    }
   ],
   "source": [
    "['(', ')'] in p"
   ]
  },
  {
   "cell_type": "code",
   "execution_count": 130,
   "id": "tutorial-valuation",
   "metadata": {},
   "outputs": [
    {
     "data": {
      "text/plain": [
       "['(', ')', '[', ']', '{', '}']"
      ]
     },
     "execution_count": 130,
     "metadata": {},
     "output_type": "execute_result"
    }
   ],
   "source": [
    "list(s)"
   ]
  },
  {
   "cell_type": "code",
   "execution_count": 131,
   "id": "creative-cartoon",
   "metadata": {},
   "outputs": [],
   "source": [
    "ss=list(s)"
   ]
  },
  {
   "cell_type": "code",
   "execution_count": 132,
   "id": "invalid-franklin",
   "metadata": {},
   "outputs": [
    {
     "data": {
      "text/plain": [
       "['(', ')', '[', ']', '{', '}']"
      ]
     },
     "execution_count": 132,
     "metadata": {},
     "output_type": "execute_result"
    }
   ],
   "source": [
    "ss"
   ]
  },
  {
   "cell_type": "code",
   "execution_count": 133,
   "id": "retired-stone",
   "metadata": {},
   "outputs": [
    {
     "data": {
      "text/plain": [
       "'['"
      ]
     },
     "execution_count": 133,
     "metadata": {},
     "output_type": "execute_result"
    }
   ],
   "source": [
    "ss.pop(int(len(ss)/2)-1)"
   ]
  },
  {
   "cell_type": "code",
   "execution_count": 134,
   "id": "suffering-opportunity",
   "metadata": {},
   "outputs": [
    {
     "data": {
      "text/plain": [
       "']'"
      ]
     },
     "execution_count": 134,
     "metadata": {},
     "output_type": "execute_result"
    }
   ],
   "source": [
    "ss.pop(int(len(ss)/2))"
   ]
  },
  {
   "cell_type": "code",
   "execution_count": 137,
   "id": "external-housing",
   "metadata": {},
   "outputs": [
    {
     "data": {
      "text/plain": [
       "['(', ')', '{', '}']"
      ]
     },
     "execution_count": 137,
     "metadata": {},
     "output_type": "execute_result"
    }
   ],
   "source": [
    "ss"
   ]
  },
  {
   "cell_type": "code",
   "execution_count": 138,
   "id": "saved-thousand",
   "metadata": {},
   "outputs": [
    {
     "data": {
      "text/plain": [
       "['(', ')', '{', '}']"
      ]
     },
     "execution_count": 138,
     "metadata": {},
     "output_type": "execute_result"
    }
   ],
   "source": [
    "ss"
   ]
  },
  {
   "cell_type": "code",
   "execution_count": 139,
   "id": "completed-adobe",
   "metadata": {},
   "outputs": [
    {
     "data": {
      "text/plain": [
       "False"
      ]
     },
     "execution_count": 139,
     "metadata": {},
     "output_type": "execute_result"
    }
   ],
   "source": [
    "not ss"
   ]
  },
  {
   "cell_type": "code",
   "execution_count": 140,
   "id": "metallic-superintendent",
   "metadata": {},
   "outputs": [],
   "source": [
    "a=[]"
   ]
  },
  {
   "cell_type": "code",
   "execution_count": 141,
   "id": "theoretical-pleasure",
   "metadata": {},
   "outputs": [
    {
     "data": {
      "text/plain": [
       "True"
      ]
     },
     "execution_count": 141,
     "metadata": {},
     "output_type": "execute_result"
    }
   ],
   "source": [
    "not a"
   ]
  },
  {
   "cell_type": "code",
   "execution_count": 145,
   "id": "limited-remedy",
   "metadata": {},
   "outputs": [],
   "source": [
    "my_func = lambda x: x**2 "
   ]
  },
  {
   "cell_type": "code",
   "execution_count": 148,
   "id": "three-williams",
   "metadata": {},
   "outputs": [
    {
     "data": {
      "text/plain": [
       "9"
      ]
     },
     "execution_count": 148,
     "metadata": {},
     "output_type": "execute_result"
    }
   ],
   "source": [
    "my_func(3)"
   ]
  },
  {
   "cell_type": "markdown",
   "id": "brief-journal",
   "metadata": {},
   "source": [
    "# 238. Product of Array Except Self\n",
    "Given an array nums of n integers where n > 1,  return an array output such that output[i] is equal to the product of all the elements of nums except nums[i]."
   ]
  },
  {
   "cell_type": "code",
   "execution_count": 49,
   "id": "disabled-throw",
   "metadata": {},
   "outputs": [],
   "source": [
    "nums=[1,2,3,4]"
   ]
  },
  {
   "cell_type": "code",
   "execution_count": 80,
   "id": "vocal-slovak",
   "metadata": {},
   "outputs": [],
   "source": [
    "def prod_except_self(nums):\n",
    "    \n",
    "    product = []     \n",
    "    \n",
    "    for i in range(len(nums)):\n",
    "        \n",
    "        copy=nums[:]  # essential: WRONG copy=nums \n",
    "        copy.pop(i)\n",
    "        prod = 1\n",
    "        \n",
    "        for j in copy:\n",
    "            prod = prod*j        \n",
    "        \n",
    "        product.append(prod)\n",
    "        \n",
    "    return product"
   ]
  },
  {
   "cell_type": "code",
   "execution_count": 81,
   "id": "administrative-bolivia",
   "metadata": {},
   "outputs": [
    {
     "data": {
      "text/plain": [
       "[24, 12, 8, 6]"
      ]
     },
     "execution_count": 81,
     "metadata": {},
     "output_type": "execute_result"
    }
   ],
   "source": [
    "prod_except_self(nums)"
   ]
  },
  {
   "cell_type": "markdown",
   "id": "starting-entrepreneur",
   "metadata": {},
   "source": [
    "# 53. Maximum Subarray\n",
    "Given an integer array nums, find the contiguous subarray (containing at least one number) which has the largest sum and return its sum."
   ]
  },
  {
   "cell_type": "code",
   "execution_count": 162,
   "id": "clean-express",
   "metadata": {},
   "outputs": [],
   "source": [
    "nums = [-2,1,-3,4,-1,2,1,-5,4]"
   ]
  },
  {
   "cell_type": "code",
   "execution_count": 160,
   "id": "swiss-morris",
   "metadata": {},
   "outputs": [],
   "source": [
    "def max_subarray(nums):\n",
    "    sub_sum = nums[0]\n",
    "    print(sub_sum)\n",
    "    for i in range(len(nums)):\n",
    "        for j in range(i,len(nums)):\n",
    "            if (i==j) and (nums[j] > sub_sum):\n",
    "                sub_sum = nums[j]\n",
    "                print(i,j,nums[i],nums[j],sub_sum)\n",
    "            elif sum(nums[i:j]) > sub_sum:\n",
    "                sub_sum = sum(nums[i:j])\n",
    "                print(i,j,nums[i],nums[j],sub_sum)\n",
    "            else:\n",
    "                print(nums[0],nums[i],nums[j])\n",
    "            print('\\n')\n",
    "    return sub_sum"
   ]
  },
  {
   "cell_type": "code",
   "execution_count": 163,
   "id": "prescribed-tourism",
   "metadata": {},
   "outputs": [
    {
     "name": "stdout",
     "output_type": "stream",
     "text": [
      "-2\n",
      "0 0 -2 -2 0\n",
      "\n",
      "\n",
      "-2 -2 1\n",
      "\n",
      "\n",
      "-2 -2 -3\n",
      "\n",
      "\n",
      "-2 -2 4\n",
      "\n",
      "\n",
      "-2 -2 -1\n",
      "\n",
      "\n",
      "-2 -2 2\n",
      "\n",
      "\n",
      "0 6 -2 1 1\n",
      "\n",
      "\n",
      "0 7 -2 -5 2\n",
      "\n",
      "\n",
      "-2 -2 4\n",
      "\n",
      "\n",
      "-2 1 1\n",
      "\n",
      "\n",
      "-2 1 -3\n",
      "\n",
      "\n",
      "-2 1 4\n",
      "\n",
      "\n",
      "-2 1 -1\n",
      "\n",
      "\n",
      "-2 1 2\n",
      "\n",
      "\n",
      "1 6 1 1 3\n",
      "\n",
      "\n",
      "1 7 1 -5 4\n",
      "\n",
      "\n",
      "-2 1 4\n",
      "\n",
      "\n",
      "-2 -3 -3\n",
      "\n",
      "\n",
      "-2 -3 4\n",
      "\n",
      "\n",
      "-2 -3 -1\n",
      "\n",
      "\n",
      "-2 -3 2\n",
      "\n",
      "\n",
      "-2 -3 1\n",
      "\n",
      "\n",
      "-2 -3 -5\n",
      "\n",
      "\n",
      "-2 -3 4\n",
      "\n",
      "\n",
      "-2 4 4\n",
      "\n",
      "\n",
      "-2 4 -1\n",
      "\n",
      "\n",
      "-2 4 2\n",
      "\n",
      "\n",
      "3 6 4 1 5\n",
      "\n",
      "\n",
      "3 7 4 -5 6\n",
      "\n",
      "\n",
      "-2 4 4\n",
      "\n",
      "\n",
      "-2 -1 -1\n",
      "\n",
      "\n",
      "-2 -1 2\n",
      "\n",
      "\n",
      "-2 -1 1\n",
      "\n",
      "\n",
      "-2 -1 -5\n",
      "\n",
      "\n",
      "-2 -1 4\n",
      "\n",
      "\n",
      "-2 2 2\n",
      "\n",
      "\n",
      "-2 2 1\n",
      "\n",
      "\n",
      "-2 2 -5\n",
      "\n",
      "\n",
      "-2 2 4\n",
      "\n",
      "\n",
      "-2 1 1\n",
      "\n",
      "\n",
      "-2 1 -5\n",
      "\n",
      "\n",
      "-2 1 4\n",
      "\n",
      "\n",
      "-2 -5 -5\n",
      "\n",
      "\n",
      "-2 -5 4\n",
      "\n",
      "\n",
      "-2 4 4\n",
      "\n",
      "\n"
     ]
    },
    {
     "data": {
      "text/plain": [
       "6"
      ]
     },
     "execution_count": 163,
     "metadata": {},
     "output_type": "execute_result"
    }
   ],
   "source": [
    "max_subarray(nums)"
   ]
  },
  {
   "cell_type": "code",
   "execution_count": 99,
   "id": "clinical-average",
   "metadata": {},
   "outputs": [
    {
     "data": {
      "text/plain": [
       "15"
      ]
     },
     "execution_count": 99,
     "metadata": {},
     "output_type": "execute_result"
    }
   ],
   "source": []
  },
  {
   "cell_type": "code",
   "execution_count": 80,
   "id": "muslim-updating",
   "metadata": {},
   "outputs": [],
   "source": [
    "intervals = [[1,4],[4,5]]"
   ]
  },
  {
   "cell_type": "code",
   "execution_count": 78,
   "id": "greatest-charge",
   "metadata": {},
   "outputs": [],
   "source": [
    "def merge(intervals):\n",
    "    \n",
    "    if not intervals: return []\n",
    "    \n",
    "    out = []\n",
    "    int_o = intervals[0][0]\n",
    "    int_c = intervals[0][1]\n",
    "        \n",
    "    for i in range(len(intervals)-1):        \n",
    "        if intervals[i][1] < intervals[i+1][0]:\n",
    "            int_c = intervals[i][1]            \n",
    "            out.append([int_o,int_c])\n",
    "            int_o = intervals[i+1][0]            \n",
    "            if i == len(intervals)-2: \n",
    "                out.append(intervals[i+1])\n",
    "        else:\n",
    "            int_c = intervals[i+1][1]\n",
    "            if i == len(intervals)-2: \n",
    "                out.append([int_o,int_c])\n",
    "      \n",
    "    return out"
   ]
  },
  {
   "cell_type": "code",
   "execution_count": 81,
   "id": "wicked-jumping",
   "metadata": {},
   "outputs": [
    {
     "data": {
      "text/plain": [
       "[[1, 5]]"
      ]
     },
     "execution_count": 81,
     "metadata": {},
     "output_type": "execute_result"
    }
   ],
   "source": [
    "merge(intervals)"
   ]
  },
  {
   "cell_type": "code",
   "execution_count": null,
   "id": "powered-prince",
   "metadata": {},
   "outputs": [],
   "source": []
  },
  {
   "cell_type": "markdown",
   "id": "prime-headline",
   "metadata": {},
   "source": [
    "# 33. Search in Rotated Sorted Array"
   ]
  },
  {
   "cell_type": "code",
   "execution_count": 16,
   "id": "ordered-forge",
   "metadata": {},
   "outputs": [],
   "source": [
    "nums = [4,5,6,7,0,1,2]\n",
    "target = 3"
   ]
  },
  {
   "cell_type": "code",
   "execution_count": 12,
   "id": "eleven-separation",
   "metadata": {},
   "outputs": [],
   "source": [
    "def rotated(nums,target):\n",
    "    if target in nums:\n",
    "        return nums.index(target)\n",
    "    else:\n",
    "        return -1"
   ]
  },
  {
   "cell_type": "code",
   "execution_count": 17,
   "id": "oriental-tribune",
   "metadata": {},
   "outputs": [
    {
     "data": {
      "text/plain": [
       "-1"
      ]
     },
     "execution_count": 17,
     "metadata": {},
     "output_type": "execute_result"
    }
   ],
   "source": [
    "rotated(nums,target)"
   ]
  },
  {
   "cell_type": "markdown",
   "id": "ranking-potter",
   "metadata": {},
   "source": [
    "# 206. Reverse Linked List"
   ]
  },
  {
   "cell_type": "code",
   "execution_count": 19,
   "id": "discrete-violence",
   "metadata": {},
   "outputs": [],
   "source": [
    "def reverselist(nums):\n",
    "    first = head\n",
    "    if (not first) or (not first.next): return first\n",
    "\n",
    "    first.next, curr, prev = None, first.next, first\n",
    "        \n",
    "    #1. Reverse  (curr.next = prev)\n",
    "    #2. Update Current\n",
    "    #3. Update previous\n",
    "        \n",
    "    while curr.next:\n",
    "        curr.next, curr, prev = prev, curr.next, curr\n",
    "        \n",
    "    curr.next = prev\n",
    "    return curr "
   ]
  },
  {
   "cell_type": "code",
   "execution_count": null,
   "id": "challenging-dream",
   "metadata": {},
   "outputs": [],
   "source": []
  },
  {
   "cell_type": "code",
   "execution_count": 21,
   "id": "banned-cruise",
   "metadata": {},
   "outputs": [],
   "source": [
    "class Node:\n",
    "    def __init__(self, dataval=None):\n",
    "        self.dataval = dataval\n",
    "        self.nextval = None\n",
    "\n",
    "class SLinkedList:\n",
    "    def __init__(self):\n",
    "        self.headval = None\n",
    "\n",
    "list1 = SLinkedList()\n",
    "list1.headval = Node(\"Mon\")\n",
    "e2 = Node(\"Tue\")\n",
    "e3 = Node(\"Wed\")\n",
    "# Link first Node to second node\n",
    "list1.headval.nextval = e2\n",
    "\n",
    "# Link second Node to third node\n",
    "e2.nextval = e3"
   ]
  },
  {
   "cell_type": "code",
   "execution_count": 23,
   "id": "green-growth",
   "metadata": {},
   "outputs": [
    {
     "data": {
      "text/plain": [
       "<__main__.Node at 0x200f86fea08>"
      ]
     },
     "execution_count": 23,
     "metadata": {},
     "output_type": "execute_result"
    }
   ],
   "source": [
    "e2.nextval"
   ]
  },
  {
   "cell_type": "markdown",
   "id": "sharing-intake",
   "metadata": {},
   "source": [
    "# 3. Longest Substring Without Repeating Characters"
   ]
  },
  {
   "cell_type": "code",
   "execution_count": 35,
   "id": "optimum-zoning",
   "metadata": {},
   "outputs": [],
   "source": [
    "s = \"ckilbkd\" # \"ckilbkd\" , \"pwwkew\" , \"abcabcbb\""
   ]
  },
  {
   "cell_type": "code",
   "execution_count": 36,
   "id": "horizontal-kennedy",
   "metadata": {},
   "outputs": [],
   "source": [
    "def longest_sub(s):\n",
    "    \n",
    "    max_len = 0\n",
    "    bucket = []\n",
    "    \n",
    "    for letter in s: \n",
    "        if letter not in bucket:            \n",
    "            bucket.append(letter)\n",
    "            max_len = max(max_len, len(bucket))\n",
    "            print(letter, bucket, max_len)\n",
    "        else:\n",
    "            if letter == bucket[-1] and len(bucket)>1 : \n",
    "                bucket.pop(0)\n",
    "            bucket.pop(0)            \n",
    "            bucket.append(letter)\n",
    "            print(letter, bucket, max_len)\n",
    "\n",
    "    return max_len\n"
   ]
  },
  {
   "cell_type": "code",
   "execution_count": 37,
   "id": "usual-senator",
   "metadata": {},
   "outputs": [
    {
     "name": "stdout",
     "output_type": "stream",
     "text": [
      "c ['c'] 1\n",
      "k ['c', 'k'] 2\n",
      "i ['c', 'k', 'i'] 3\n",
      "l ['c', 'k', 'i', 'l'] 4\n",
      "b ['c', 'k', 'i', 'l', 'b'] 5\n",
      "k ['k', 'i', 'l', 'b', 'k'] 5\n",
      "d ['k', 'i', 'l', 'b', 'k', 'd'] 6\n"
     ]
    },
    {
     "data": {
      "text/plain": [
       "6"
      ]
     },
     "execution_count": 37,
     "metadata": {},
     "output_type": "execute_result"
    }
   ],
   "source": [
    "longest_sub(s)"
   ]
  },
  {
   "cell_type": "code",
   "execution_count": 26,
   "id": "featured-playback",
   "metadata": {},
   "outputs": [
    {
     "data": {
      "text/plain": [
       "'b'"
      ]
     },
     "execution_count": 26,
     "metadata": {},
     "output_type": "execute_result"
    }
   ],
   "source": [
    "list(s).pop(0)"
   ]
  },
  {
   "cell_type": "code",
   "execution_count": 30,
   "id": "laden-there",
   "metadata": {},
   "outputs": [
    {
     "data": {
      "text/plain": [
       "'b'"
      ]
     },
     "execution_count": 30,
     "metadata": {},
     "output_type": "execute_result"
    }
   ],
   "source": [
    "s[0:1]"
   ]
  },
  {
   "cell_type": "code",
   "execution_count": 92,
   "id": "tracked-edition",
   "metadata": {},
   "outputs": [],
   "source": [
    "s = \"afdsssafds\"\n",
    "\n",
    "def lengthOfLongestSubstring(s):\n",
    "        longest_string = left = 0\n",
    "        seen = {}\n",
    "        \n",
    "        for i, char in enumerate(s):\n",
    "            if left <= seen.get(char, -1):\n",
    "                left = seen[char] + 1\n",
    "                print(i, char, left, seen, longest_string)\n",
    "            else:\n",
    "                longest_string = max(longest_string, i + 1 - left)               \n",
    "                print(i, char, left, seen, longest_string)\n",
    "                \n",
    "            seen[char] = i\n",
    "        return longest_string"
   ]
  },
  {
   "cell_type": "code",
   "execution_count": 93,
   "id": "israeli-breed",
   "metadata": {},
   "outputs": [
    {
     "name": "stdout",
     "output_type": "stream",
     "text": [
      "0 a 0 {} 1\n",
      "1 f 0 {'a': 0} 2\n",
      "2 d 0 {'a': 0, 'f': 1} 3\n",
      "3 s 0 {'a': 0, 'f': 1, 'd': 2} 4\n",
      "4 s 4 {'a': 0, 'f': 1, 'd': 2, 's': 3} 4\n",
      "5 s 5 {'a': 0, 'f': 1, 'd': 2, 's': 4} 4\n",
      "6 a 5 {'a': 0, 'f': 1, 'd': 2, 's': 5} 4\n",
      "7 f 5 {'a': 6, 'f': 1, 'd': 2, 's': 5} 4\n",
      "8 d 5 {'a': 6, 'f': 7, 'd': 2, 's': 5} 4\n",
      "9 s 6 {'a': 6, 'f': 7, 'd': 8, 's': 5} 4\n"
     ]
    },
    {
     "data": {
      "text/plain": [
       "4"
      ]
     },
     "execution_count": 93,
     "metadata": {},
     "output_type": "execute_result"
    }
   ],
   "source": [
    "lengthOfLongestSubstring(s)"
   ]
  },
  {
   "cell_type": "code",
   "execution_count": 94,
   "id": "planned-robinson",
   "metadata": {},
   "outputs": [
    {
     "data": {
      "text/plain": [
       "'as'"
      ]
     },
     "execution_count": 94,
     "metadata": {},
     "output_type": "execute_result"
    }
   ],
   "source": [
    "'a'+'s'"
   ]
  },
  {
   "cell_type": "code",
   "execution_count": 95,
   "id": "friendly-sewing",
   "metadata": {},
   "outputs": [
    {
     "data": {
      "text/plain": [
       "2"
      ]
     },
     "execution_count": 95,
     "metadata": {},
     "output_type": "execute_result"
    }
   ],
   "source": [
    "len('as')"
   ]
  },
  {
   "cell_type": "code",
   "execution_count": 100,
   "id": "friendly-separate",
   "metadata": {},
   "outputs": [
    {
     "name": "stdout",
     "output_type": "stream",
     "text": [
      "1\n",
      "2\n",
      "3\n",
      "4\n"
     ]
    }
   ],
   "source": [
    "i=1\n",
    "while i < 5:\n",
    "    print(i)\n",
    "    i+=1"
   ]
  },
  {
   "cell_type": "code",
   "execution_count": 42,
   "id": "bigger-bulgarian",
   "metadata": {},
   "outputs": [
    {
     "data": {
      "text/plain": [
       "'A'"
      ]
     },
     "execution_count": 42,
     "metadata": {},
     "output_type": "execute_result"
    }
   ],
   "source": [
    "chr(ord(\"A\"))"
   ]
  },
  {
   "cell_type": "code",
   "execution_count": 43,
   "id": "accepted-lexington",
   "metadata": {},
   "outputs": [
    {
     "data": {
      "text/plain": [
       "'C'"
      ]
     },
     "execution_count": 43,
     "metadata": {},
     "output_type": "execute_result"
    }
   ],
   "source": [
    "chr(67)"
   ]
  },
  {
   "cell_type": "markdown",
   "id": "threatened-winning",
   "metadata": {},
   "source": [
    "# 11. Container With Most Water"
   ]
  },
  {
   "cell_type": "code",
   "execution_count": 54,
   "id": "reasonable-sudan",
   "metadata": {},
   "outputs": [],
   "source": [
    "height = [1,2,1]"
   ]
  },
  {
   "cell_type": "code",
   "execution_count": 26,
   "id": "prospective-addiction",
   "metadata": {},
   "outputs": [],
   "source": [
    "def MostWater(height):\n",
    "    max=0\n",
    "    left=right=0\n",
    "    for i in range(len(height)-1):\n",
    "        for j in range(i+1,len(height)):            \n",
    "            s = min(height[i], height[j]) * (j-i)\n",
    "            print(i,j,s)\n",
    "            if s > max:\n",
    "                left = i\n",
    "                right = j\n",
    "                max = s                \n",
    "    return height[left], height[right], max "
   ]
  },
  {
   "cell_type": "code",
   "execution_count": 34,
   "id": "defensive-morning",
   "metadata": {},
   "outputs": [
    {
     "name": "stdout",
     "output_type": "stream",
     "text": [
      "0 1 1\n"
     ]
    },
    {
     "data": {
      "text/plain": [
       "(1, 1, 1)"
      ]
     },
     "execution_count": 34,
     "metadata": {},
     "output_type": "execute_result"
    }
   ],
   "source": [
    "MostWater(height)"
   ]
  },
  {
   "cell_type": "code",
   "execution_count": 50,
   "id": "curious-refund",
   "metadata": {},
   "outputs": [],
   "source": [
    "def maxArea(height):\n",
    "    maxa = s = 0\n",
    "    left, right = 0, len(height)-1\n",
    "    print(left, right)\n",
    "    while left < right:\n",
    "        if height[left] < height[right]:\n",
    "            s = min(height[left],height[right]) * (right - left)\n",
    "            maxa = max(s, maxa)\n",
    "            print(left, right, s, maxa)\n",
    "            left += 1 \n",
    "        else:\n",
    "            s = min(height[left], height[right]) * (right - left)\n",
    "            maxa = max(s, maxa)\n",
    "            right -= 1\n",
    "            print(left, right, s, maxa)\n",
    "            \n",
    "    return height[left], height[right], maxa "
   ]
  },
  {
   "cell_type": "code",
   "execution_count": 55,
   "id": "indonesian-bernard",
   "metadata": {},
   "outputs": [
    {
     "name": "stdout",
     "output_type": "stream",
     "text": [
      "0 2\n",
      "0 1 2 2\n",
      "0 1 1 2\n"
     ]
    },
    {
     "data": {
      "text/plain": [
       "(2, 2, 2)"
      ]
     },
     "execution_count": 55,
     "metadata": {},
     "output_type": "execute_result"
    }
   ],
   "source": [
    "maxArea(height)"
   ]
  },
  {
   "cell_type": "markdown",
   "id": "appropriate-filter",
   "metadata": {},
   "source": [
    "# 76. Minimum Window Substring"
   ]
  },
  {
   "cell_type": "code",
   "execution_count": 57,
   "id": "different-space",
   "metadata": {},
   "outputs": [],
   "source": [
    "s = \"ADOBECODEBANC\"\n",
    "t = \"ABC\""
   ]
  },
  {
   "cell_type": "code",
   "execution_count": 74,
   "id": "later-heath",
   "metadata": {},
   "outputs": [],
   "source": [
    "def minWindow(s,t):\n",
    "    window = []\n",
    "    for letter_s in s:\n",
    "        if letter_s == t[0]:\n",
    "            while letter_s not in window:\n",
    "                window.append(letter_s)\n",
    "        else:\n",
    "                print(letter_s, window)\n",
    "                \n",
    "    return window"
   ]
  },
  {
   "cell_type": "code",
   "execution_count": 75,
   "id": "rural-outside",
   "metadata": {},
   "outputs": [
    {
     "name": "stdout",
     "output_type": "stream",
     "text": [
      "A ['A']\n"
     ]
    },
    {
     "data": {
      "text/plain": [
       "['A']"
      ]
     },
     "execution_count": 75,
     "metadata": {},
     "output_type": "execute_result"
    }
   ],
   "source": [
    "minWindow(s,t)"
   ]
  },
  {
   "cell_type": "code",
   "execution_count": 62,
   "id": "central-begin",
   "metadata": {},
   "outputs": [
    {
     "data": {
      "text/plain": [
       "True"
      ]
     },
     "execution_count": 62,
     "metadata": {},
     "output_type": "execute_result"
    }
   ],
   "source": [
    "t[0] in s"
   ]
  },
  {
   "cell_type": "code",
   "execution_count": 63,
   "id": "cooperative-python",
   "metadata": {},
   "outputs": [
    {
     "name": "stdout",
     "output_type": "stream",
     "text": [
      "0 A\n",
      "1 B\n",
      "2 C\n"
     ]
    }
   ],
   "source": [
    "for i, letter in enumerate(t):\n",
    "    print(i,letter)"
   ]
  },
  {
   "cell_type": "code",
   "execution_count": 79,
   "id": "electoral-consideration",
   "metadata": {},
   "outputs": [
    {
     "data": {
      "text/plain": [
       "'A'"
      ]
     },
     "execution_count": 79,
     "metadata": {},
     "output_type": "execute_result"
    }
   ],
   "source": [
    "list(t).pop(0)"
   ]
  },
  {
   "cell_type": "markdown",
   "id": "swiss-quebec",
   "metadata": {},
   "source": [
    "# 424. Longest Repeating Character Replacement"
   ]
  },
  {
   "cell_type": "code",
   "execution_count": 38,
   "id": "vertical-wright",
   "metadata": {},
   "outputs": [],
   "source": [
    "s = \"AABABBA\"\n",
    "k = 1"
   ]
  },
  {
   "cell_type": "code",
   "execution_count": 43,
   "id": "pharmaceutical-miami",
   "metadata": {},
   "outputs": [],
   "source": [
    "from collections import Counter\n",
    "def characterReplacement(s,k):\n",
    "\n",
    "    l = 0\n",
    "    r = -1\n",
    "\n",
    "    memory = Counter()\n",
    "    \n",
    "    print(memory)\n",
    "\n",
    "    # iterating through s, r is the right pointer\n",
    "    for r,v in enumerate(s):\n",
    "        # on each loop, adding s[r] i.e v to the Counter dict \n",
    "        memory[v] += 1\n",
    "        \n",
    "        print(memory[v])\n",
    "\n",
    "        max_char_count = memory.most_common(1)[0][1]\n",
    "\n",
    "        if (r +1 - l) - max_char_count > k:\n",
    "            memory[s[l]] -= 1\n",
    "            l += 1\n",
    "            \n",
    "    return r+1-l"
   ]
  },
  {
   "cell_type": "code",
   "execution_count": 44,
   "id": "patent-investigation",
   "metadata": {},
   "outputs": [
    {
     "name": "stdout",
     "output_type": "stream",
     "text": [
      "Counter()\n",
      "1\n",
      "2\n",
      "1\n",
      "3\n",
      "2\n",
      "3\n",
      "2\n"
     ]
    },
    {
     "data": {
      "text/plain": [
       "4"
      ]
     },
     "execution_count": 44,
     "metadata": {},
     "output_type": "execute_result"
    }
   ],
   "source": [
    "characterReplacement(s,k)"
   ]
  },
  {
   "cell_type": "code",
   "execution_count": 51,
   "id": "sufficient-selling",
   "metadata": {},
   "outputs": [],
   "source": [
    "from collections import Counter\n",
    "memory = Counter()"
   ]
  },
  {
   "cell_type": "code",
   "execution_count": 52,
   "id": "controlled-investing",
   "metadata": {},
   "outputs": [
    {
     "data": {
      "text/plain": [
       "[]"
      ]
     },
     "execution_count": 52,
     "metadata": {},
     "output_type": "execute_result"
    }
   ],
   "source": [
    "memory.most_common(1)"
   ]
  },
  {
   "cell_type": "markdown",
   "id": "disabled-longer",
   "metadata": {},
   "source": [
    "# 200. Number of Islands"
   ]
  },
  {
   "cell_type": "code",
   "execution_count": 53,
   "id": "economic-aluminum",
   "metadata": {},
   "outputs": [],
   "source": [
    "grid = [\n",
    "  [\"1\",\"1\",\"1\",\"1\",\"0\"],\n",
    "  [\"1\",\"1\",\"0\",\"1\",\"0\"],\n",
    "  [\"1\",\"1\",\"0\",\"0\",\"0\"],\n",
    "  [\"0\",\"0\",\"0\",\"0\",\"0\"]\n",
    "]"
   ]
  },
  {
   "cell_type": "code",
   "execution_count": 59,
   "id": "animated-amendment",
   "metadata": {},
   "outputs": [],
   "source": [
    "def numIslands(grid):\n",
    "    total = 0\n",
    "    r = len(grid)\n",
    "    for i in range(1,r):\n",
    "        for j in range(1,r):\n",
    "            if (grid[i-1][j] != 1 and grid[i][j-1] != 1): \n",
    "                total += 1\n",
    "            print(i,j, total)       \n",
    "         \n",
    "    return total"
   ]
  },
  {
   "cell_type": "code",
   "execution_count": 60,
   "id": "bound-leadership",
   "metadata": {},
   "outputs": [
    {
     "name": "stdout",
     "output_type": "stream",
     "text": [
      "1 1 1\n",
      "1 2 2\n",
      "1 3 3\n",
      "2 1 4\n",
      "2 2 5\n",
      "2 3 6\n",
      "3 1 7\n",
      "3 2 8\n",
      "3 3 9\n"
     ]
    },
    {
     "data": {
      "text/plain": [
       "9"
      ]
     },
     "execution_count": 60,
     "metadata": {},
     "output_type": "execute_result"
    }
   ],
   "source": [
    "numIslands(grid)"
   ]
  },
  {
   "cell_type": "code",
   "execution_count": null,
   "id": "smart-mixer",
   "metadata": {},
   "outputs": [],
   "source": []
  },
  {
   "cell_type": "markdown",
   "id": "miniature-cardiff",
   "metadata": {},
   "source": [
    "# 401. Binary Watch"
   ]
  },
  {
   "cell_type": "code",
   "execution_count": 128,
   "id": "adjusted-newspaper",
   "metadata": {},
   "outputs": [],
   "source": [
    "n=2"
   ]
  },
  {
   "cell_type": "code",
   "execution_count": 129,
   "id": "caring-scoop",
   "metadata": {},
   "outputs": [],
   "source": [
    "def readBinaryWatch(n):\n",
    "    if n<0 or n>12:\n",
    "        return []\n",
    "    \n",
    "    time = []\n",
    "    for h in range(12):\n",
    "        for m in range(60):\n",
    "            if bin(h)[2:].count('1') + bin(m)[2:].count('1') == n:\n",
    "                t = '{:d}:{:02d}'.format(h,m)\n",
    "                time.append(t)\n",
    "\n",
    "    return time"
   ]
  },
  {
   "cell_type": "code",
   "execution_count": 130,
   "id": "changed-detection",
   "metadata": {},
   "outputs": [
    {
     "data": {
      "text/plain": [
       "['0:03',\n",
       " '0:05',\n",
       " '0:06',\n",
       " '0:09',\n",
       " '0:10',\n",
       " '0:12',\n",
       " '0:17',\n",
       " '0:18',\n",
       " '0:20',\n",
       " '0:24',\n",
       " '0:33',\n",
       " '0:34',\n",
       " '0:36',\n",
       " '0:40',\n",
       " '0:48',\n",
       " '1:01',\n",
       " '1:02',\n",
       " '1:04',\n",
       " '1:08',\n",
       " '1:16',\n",
       " '1:32',\n",
       " '2:01',\n",
       " '2:02',\n",
       " '2:04',\n",
       " '2:08',\n",
       " '2:16',\n",
       " '2:32',\n",
       " '3:00',\n",
       " '4:01',\n",
       " '4:02',\n",
       " '4:04',\n",
       " '4:08',\n",
       " '4:16',\n",
       " '4:32',\n",
       " '5:00',\n",
       " '6:00',\n",
       " '8:01',\n",
       " '8:02',\n",
       " '8:04',\n",
       " '8:08',\n",
       " '8:16',\n",
       " '8:32',\n",
       " '9:00',\n",
       " '10:00']"
      ]
     },
     "execution_count": 130,
     "metadata": {},
     "output_type": "execute_result"
    }
   ],
   "source": [
    "readBinaryWatch(n)"
   ]
  },
  {
   "cell_type": "code",
   "execution_count": 131,
   "id": "bacterial-aircraft",
   "metadata": {},
   "outputs": [],
   "source": [
    "from itertools import combinations, permutations"
   ]
  },
  {
   "cell_type": "code",
   "execution_count": 153,
   "id": "powered-temple",
   "metadata": {},
   "outputs": [],
   "source": [
    "set = [2,3,5]"
   ]
  },
  {
   "cell_type": "code",
   "execution_count": 154,
   "id": "after-protection",
   "metadata": {},
   "outputs": [
    {
     "name": "stdout",
     "output_type": "stream",
     "text": [
      "(2, 3)\n",
      "(2, 5)\n",
      "(3, 5)\n",
      "\n",
      "\n",
      "(2, 3)\n",
      "(2, 5)\n",
      "(3, 2)\n",
      "(3, 5)\n",
      "(5, 2)\n",
      "(5, 3)\n"
     ]
    }
   ],
   "source": [
    "cm = combinations(set,2)\n",
    "pm = permutations(set,2)\n",
    "\n",
    "for i in list(cm):\n",
    "    print(i)\n",
    "\n",
    "print('\\n')\n",
    "\n",
    "for i in list(pm):\n",
    "    print(i)"
   ]
  },
  {
   "cell_type": "code",
   "execution_count": 155,
   "id": "supposed-favorite",
   "metadata": {},
   "outputs": [
    {
     "data": {
      "text/plain": [
       "itertools.combinations"
      ]
     },
     "execution_count": 155,
     "metadata": {},
     "output_type": "execute_result"
    }
   ],
   "source": [
    "type(cm)"
   ]
  },
  {
   "cell_type": "code",
   "execution_count": 3,
   "id": "interracial-international",
   "metadata": {},
   "outputs": [],
   "source": [
    "# Definition for a binary tree node.\n",
    "# class TreeNode:\n",
    "#     def __init__(self, val=0, left=None, right=None):\n",
    "#         self.val = val\n",
    "#         self.left = left\n",
    "#         self.right = right\n",
    "\n",
    "class Solution:\n",
    "    def invertTree(self, root):\n",
    "        \n",
    "        if root:\n",
    "            # General case:\n",
    "            \n",
    "            # invert child node of current root\n",
    "            root.left, root.right = root.right, root.left \n",
    "            \n",
    "            # invert subtree with DFS\n",
    "            \n",
    "            if root.left:\n",
    "                self.invertTree( root.left )\n",
    "            \n",
    "            if root.right:\n",
    "                self.invertTree( root.right )\n",
    "            \n",
    "            return root\n",
    "        \n",
    "        else:\n",
    "            # Base case:\n",
    "            # empty tree\n",
    "            \n",
    "            return None\n",
    "    "
   ]
  },
  {
   "cell_type": "code",
   "execution_count": 18,
   "id": "universal-graphic",
   "metadata": {},
   "outputs": [],
   "source": [
    "left = 5\n",
    "right =3 "
   ]
  },
  {
   "cell_type": "code",
   "execution_count": 19,
   "id": "discrete-diploma",
   "metadata": {},
   "outputs": [
    {
     "name": "stdout",
     "output_type": "stream",
     "text": [
      "5 3\n",
      "3 5\n"
     ]
    }
   ],
   "source": [
    "print(left, right)\n",
    "left, right = right, left\n",
    "print(left, right)"
   ]
  },
  {
   "cell_type": "markdown",
   "id": "elder-lease",
   "metadata": {},
   "source": [
    "# 100. Same Tree"
   ]
  },
  {
   "cell_type": "code",
   "execution_count": 1,
   "id": "welsh-smooth",
   "metadata": {},
   "outputs": [],
   "source": [
    "class Solution:\n",
    "    \n",
    "    def isSameTree(self, p,q):\n",
    "        if (not p) and (not q):\n",
    "            return True\n",
    "        elif (not p) or (not q):\n",
    "            return False\n",
    "        \n",
    "        if p.val != q.val:\n",
    "            return False            \n",
    "        \n",
    "        return self.isSameTree(p.left,q.left) and self.isSameTree(p.right,q.right)    "
   ]
  },
  {
   "cell_type": "markdown",
   "id": "aerial-savage",
   "metadata": {},
   "source": [
    "# 104. Maximum Depth of Binary Tree"
   ]
  },
  {
   "cell_type": "code",
   "execution_count": 2,
   "id": "antique-hearts",
   "metadata": {},
   "outputs": [],
   "source": [
    "# Definition for a binary tree node.\n",
    "# class TreeNode:\n",
    "#     def __init__(self, val=0, left=None, right=None):\n",
    "#         self.val = val\n",
    "#         self.left = left\n",
    "#         self.right = right\n",
    "\n",
    "class Solution:\n",
    "    def maxDepth(self, root):\n",
    "        \n",
    "        if not root:\n",
    "            return 0\n",
    "        \n",
    "        return max( self.maxDepth(root.left) + 1, self.maxDepth(root.right) + 1 )        "
   ]
  },
  {
   "cell_type": "markdown",
   "id": "handy-money",
   "metadata": {},
   "source": [
    "# 235. Lowest Common Ancestor of a Binary Search Tree"
   ]
  },
  {
   "cell_type": "code",
   "execution_count": 4,
   "id": "desirable-spider",
   "metadata": {},
   "outputs": [],
   "source": [
    "# Definition for a binary tree node.\n",
    "# class TreeNode:\n",
    "#     def __init__(self, x):\n",
    "#         self.val = x\n",
    "#         self.left = None\n",
    "#         self.right = None\n",
    "\n",
    "class Solution:\n",
    "    def lowestCommonAncestor(self, root, p, q):\n",
    "        while True:\n",
    "            if p.val <= root.val <= q.val or p.val >= root.val >= q.val:\n",
    "                return root\n",
    "            elif root.val < p.val and root.val < q.val : \n",
    "                root = root.right\n",
    "            elif root.val > p.val and root.val > q.val: \n",
    "                root = root.left      \n",
    "        "
   ]
  },
  {
   "cell_type": "markdown",
   "id": "adolescent-utilization",
   "metadata": {},
   "source": [
    "# 572. Subtree of Another Tree"
   ]
  },
  {
   "cell_type": "code",
   "execution_count": 3,
   "id": "extreme-flash",
   "metadata": {},
   "outputs": [],
   "source": [
    "# Definition for a binary tree node.\n",
    "# class TreeNode:\n",
    "#     def __init__(self, val=0, left=None, right=None):\n",
    "#         self.val = val\n",
    "#         self.left = left\n",
    "#         self.right = right\n",
    "\n",
    "class Solution:\n",
    "    def isSubtree(self, s,t):\n",
    "        if t is None:\n",
    "            return True\n",
    "        \n",
    "        if s is None:\n",
    "            return False\n",
    "        \n",
    "        if t.val == s.val:\n",
    "            if self.isSame(s.left, t) and self.isSame(s.right, t):\n",
    "                return True\n",
    "            \n",
    "        return self.isSubtree(s.left, t) or self.isSubtree(s.right, t)\n",
    "        \n",
    "    def isSame(self, s, t):\n",
    "        if t is None and s is None:\n",
    "            return True\n",
    "        \n",
    "        elif t is None or s is None:\n",
    "            return False\n",
    "        \n",
    "        if t.val == s.val:\n",
    "            return self.isSame(s.left, t.left) and self.isSame(s.right, t.right)"
   ]
  },
  {
   "cell_type": "code",
   "execution_count": 2,
   "id": "accomplished-briefing",
   "metadata": {},
   "outputs": [],
   "source": [
    "n=15"
   ]
  },
  {
   "cell_type": "code",
   "execution_count": 21,
   "id": "casual-wealth",
   "metadata": {},
   "outputs": [],
   "source": [
    "def fizzBuzz(n):\n",
    "    # Write your code here\n",
    "    for i in range(1,n+1):\n",
    "        if i%3 == 0 and i%5 == 0:\n",
    "            print('FizzBuzz')\n",
    "        elif i%3 == 0 and i%5 != 0:\n",
    "            print('Fizz')\n",
    "        elif i%5 == 0 and i%3 != 0:\n",
    "            print('Buzz')\n",
    "        else: \n",
    "            print(i)"
   ]
  },
  {
   "cell_type": "code",
   "execution_count": 22,
   "id": "funny-contemporary",
   "metadata": {},
   "outputs": [
    {
     "name": "stdout",
     "output_type": "stream",
     "text": [
      "1\n",
      "2\n",
      "Fizz\n",
      "4\n",
      "Buzz\n",
      "Fizz\n",
      "7\n",
      "8\n",
      "Fizz\n",
      "Buzz\n",
      "11\n",
      "Fizz\n",
      "13\n",
      "14\n",
      "FizzBuzz\n"
     ]
    }
   ],
   "source": [
    "fizzBuzz(n)"
   ]
  },
  {
   "cell_type": "code",
   "execution_count": 15,
   "id": "verbal-luther",
   "metadata": {},
   "outputs": [
    {
     "data": {
      "text/plain": [
       "True"
      ]
     },
     "execution_count": 15,
     "metadata": {},
     "output_type": "execute_result"
    }
   ],
   "source": [
    "n%3 == 0 and n%5 == 0"
   ]
  },
  {
   "cell_type": "markdown",
   "id": "worthy-campaign",
   "metadata": {},
   "source": [
    "# 70. Climbing Stairs"
   ]
  },
  {
   "cell_type": "code",
   "execution_count": 11,
   "id": "sublime-venue",
   "metadata": {},
   "outputs": [],
   "source": [
    "def climbStairs(n):\n",
    "    a,b = 1,0\n",
    "    for i in range(n):\n",
    "        print('i=',i,'a=',a,' b=',b)\n",
    "        a,b = a+b,a\n",
    "        print('a=',a,' b=',b)\n",
    "        print('\\n')\n",
    "    return a"
   ]
  },
  {
   "cell_type": "code",
   "execution_count": 12,
   "id": "crude-german",
   "metadata": {},
   "outputs": [
    {
     "name": "stdout",
     "output_type": "stream",
     "text": [
      "i= 0 a= 1  b= 0\n",
      "a= 1  b= 1\n",
      "\n",
      "\n",
      "i= 1 a= 1  b= 1\n",
      "a= 2  b= 1\n",
      "\n",
      "\n",
      "i= 2 a= 2  b= 1\n",
      "a= 3  b= 2\n",
      "\n",
      "\n",
      "i= 3 a= 3  b= 2\n",
      "a= 5  b= 3\n",
      "\n",
      "\n",
      "i= 4 a= 5  b= 3\n",
      "a= 8  b= 5\n",
      "\n",
      "\n",
      "i= 5 a= 8  b= 5\n",
      "a= 13  b= 8\n",
      "\n",
      "\n",
      "i= 6 a= 13  b= 8\n",
      "a= 21  b= 13\n",
      "\n",
      "\n",
      "i= 7 a= 21  b= 13\n",
      "a= 34  b= 21\n",
      "\n",
      "\n",
      "i= 8 a= 34  b= 21\n",
      "a= 55  b= 34\n",
      "\n",
      "\n",
      "i= 9 a= 55  b= 34\n",
      "a= 89  b= 55\n",
      "\n",
      "\n"
     ]
    },
    {
     "data": {
      "text/plain": [
       "89"
      ]
     },
     "execution_count": 12,
     "metadata": {},
     "output_type": "execute_result"
    }
   ],
   "source": [
    "n=10\n",
    "climbStairs(n)"
   ]
  },
  {
   "cell_type": "code",
   "execution_count": 13,
   "id": "modified-victim",
   "metadata": {},
   "outputs": [],
   "source": [
    "class Solution:\n",
    "    def climbStairs(self, n: int) -> int:\n",
    "        a,b = 1,1\n",
    "        for i in range(n):\n",
    "            a,b = b,a+b\n",
    "            \n",
    "        return a   "
   ]
  },
  {
   "cell_type": "code",
   "execution_count": 20,
   "id": "crazy-rhythm",
   "metadata": {},
   "outputs": [],
   "source": [
    "test=Solution()"
   ]
  },
  {
   "cell_type": "code",
   "execution_count": 21,
   "id": "continental-cannon",
   "metadata": {},
   "outputs": [
    {
     "data": {
      "text/plain": [
       "8"
      ]
     },
     "execution_count": 21,
     "metadata": {},
     "output_type": "execute_result"
    }
   ],
   "source": [
    "test.climbStairs(5)"
   ]
  },
  {
   "cell_type": "code",
   "execution_count": 4,
   "id": "developing-corps",
   "metadata": {},
   "outputs": [],
   "source": [
    "def removeDuplicates(nums):\n",
    "    index = 1\n",
    "\n",
    "    while index < len(nums):\n",
    "        if nums[index] == nums[index-1]:\n",
    "            nums.pop(index)\n",
    "        else:\n",
    "            index += 1\n",
    "    return len(nums)"
   ]
  },
  {
   "cell_type": "code",
   "execution_count": 7,
   "id": "severe-fitting",
   "metadata": {},
   "outputs": [
    {
     "data": {
      "text/plain": [
       "4"
      ]
     },
     "execution_count": 7,
     "metadata": {},
     "output_type": "execute_result"
    }
   ],
   "source": [
    "nums = [1,2,1,3]\n",
    "removeDuplicates(nums)"
   ]
  },
  {
   "cell_type": "code",
   "execution_count": 6,
   "id": "boxed-machine",
   "metadata": {},
   "outputs": [
    {
     "data": {
      "text/plain": [
       "2"
      ]
     },
     "execution_count": 6,
     "metadata": {},
     "output_type": "execute_result"
    }
   ],
   "source": [
    "nums.pop(1)"
   ]
  },
  {
   "cell_type": "code",
   "execution_count": 18,
   "id": "comic-exchange",
   "metadata": {},
   "outputs": [
    {
     "name": "stdout",
     "output_type": "stream",
     "text": [
      "0 T\n",
      "1 h\n",
      "2 i\n",
      "3 s\n",
      "4  \n",
      "5 w\n",
      "6 e\n",
      "7 b\n",
      "8 s\n",
      "9 i\n",
      "10 t\n",
      "11 e\n",
      "12  \n",
      "13 i\n",
      "14 s\n",
      "15  \n",
      "16 f\n",
      "17 o\n",
      "18 r\n",
      "19  \n",
      "20 l\n",
      "21 o\n",
      "22 s\n",
      "23 e\n",
      "24 r\n",
      "25 s\n",
      "26  \n",
      "27 L\n",
      "28 O\n",
      "29 L\n",
      "30 !\n"
     ]
    },
    {
     "data": {
      "text/plain": [
       "[]"
      ]
     },
     "execution_count": 18,
     "metadata": {},
     "output_type": "execute_result"
    }
   ],
   "source": [
    "string = \"This website is for losers LOL!\"\n",
    "def disemvowel(string):\n",
    "    novowel = []\n",
    "    for i,j in enumerate(string):\n",
    "        print(i,j)\n",
    "    return novowel\n",
    "\n",
    "disemvowel(string)"
   ]
  },
  {
   "cell_type": "code",
   "execution_count": 16,
   "id": "constant-adoption",
   "metadata": {},
   "outputs": [],
   "source": [
    "vowel = ['a', 'e', 'i','o','u']"
   ]
  },
  {
   "cell_type": "code",
   "execution_count": 6,
   "id": "interior-motor",
   "metadata": {},
   "outputs": [
    {
     "data": {
      "text/plain": [
       "'This website is for losers LOL!'"
      ]
     },
     "execution_count": 6,
     "metadata": {},
     "output_type": "execute_result"
    }
   ],
   "source": [
    "string"
   ]
  },
  {
   "cell_type": "code",
   "execution_count": 7,
   "id": "alternate-formula",
   "metadata": {},
   "outputs": [
    {
     "data": {
      "text/plain": [
       "['T',\n",
       " 'h',\n",
       " 'i',\n",
       " 's',\n",
       " ' ',\n",
       " 'w',\n",
       " 'e',\n",
       " 'b',\n",
       " 's',\n",
       " 'i',\n",
       " 't',\n",
       " 'e',\n",
       " ' ',\n",
       " 'i',\n",
       " 's',\n",
       " ' ',\n",
       " 'f',\n",
       " 'o',\n",
       " 'r',\n",
       " ' ',\n",
       " 'l',\n",
       " 'o',\n",
       " 's',\n",
       " 'e',\n",
       " 'r',\n",
       " 's',\n",
       " ' ',\n",
       " 'L',\n",
       " 'O',\n",
       " 'L',\n",
       " '!']"
      ]
     },
     "execution_count": 7,
     "metadata": {},
     "output_type": "execute_result"
    }
   ],
   "source": [
    "list(string)"
   ]
  },
  {
   "cell_type": "code",
   "execution_count": null,
   "id": "incorporated-reserve",
   "metadata": {},
   "outputs": [],
   "source": []
  }
 ],
 "metadata": {
  "kernelspec": {
   "display_name": "Python 3",
   "language": "python",
   "name": "python3"
  },
  "language_info": {
   "codemirror_mode": {
    "name": "ipython",
    "version": 3
   },
   "file_extension": ".py",
   "mimetype": "text/x-python",
   "name": "python",
   "nbconvert_exporter": "python",
   "pygments_lexer": "ipython3",
   "version": "3.7.6"
  }
 },
 "nbformat": 4,
 "nbformat_minor": 5
}
